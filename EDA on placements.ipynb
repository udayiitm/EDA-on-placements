{
 "cells": [
  {
   "cell_type": "code",
   "execution_count": 1,
   "id": "79378118",
   "metadata": {},
   "outputs": [],
   "source": [
    "import pandas as pd\n",
    "import numpy as np\n",
    "import seaborn as sns\n",
    "import matplotlib.pyplot as plt"
   ]
  },
  {
   "cell_type": "code",
   "execution_count": 2,
   "id": "4ad9b1bd",
   "metadata": {},
   "outputs": [],
   "source": [
    "df = pd.read_csv(\"C:/Users/lenovo/downloads/dav placement.csv\")"
   ]
  },
  {
   "cell_type": "code",
   "execution_count": 3,
   "id": "9d9fc822",
   "metadata": {},
   "outputs": [
    {
     "data": {
      "text/html": [
       "<div>\n",
       "<style scoped>\n",
       "    .dataframe tbody tr th:only-of-type {\n",
       "        vertical-align: middle;\n",
       "    }\n",
       "\n",
       "    .dataframe tbody tr th {\n",
       "        vertical-align: top;\n",
       "    }\n",
       "\n",
       "    .dataframe thead th {\n",
       "        text-align: right;\n",
       "    }\n",
       "</style>\n",
       "<table border=\"1\" class=\"dataframe\">\n",
       "  <thead>\n",
       "    <tr style=\"text-align: right;\">\n",
       "      <th></th>\n",
       "      <th>S No</th>\n",
       "      <th>Company</th>\n",
       "      <th>Students Selected</th>\n",
       "      <th>Package</th>\n",
       "      <th>Industry</th>\n",
       "      <th>Year</th>\n",
       "      <th>Company Type</th>\n",
       "    </tr>\n",
       "  </thead>\n",
       "  <tbody>\n",
       "    <tr>\n",
       "      <th>0</th>\n",
       "      <td>1</td>\n",
       "      <td>Publicis Sapient</td>\n",
       "      <td>1</td>\n",
       "      <td>10.0</td>\n",
       "      <td>Digital consultancy</td>\n",
       "      <td>2022</td>\n",
       "      <td>Service</td>\n",
       "    </tr>\n",
       "    <tr>\n",
       "      <th>1</th>\n",
       "      <td>2</td>\n",
       "      <td>Infosys</td>\n",
       "      <td>1</td>\n",
       "      <td>8.0</td>\n",
       "      <td>Software/IT Services</td>\n",
       "      <td>2022</td>\n",
       "      <td>Service</td>\n",
       "    </tr>\n",
       "    <tr>\n",
       "      <th>2</th>\n",
       "      <td>3</td>\n",
       "      <td>IBM</td>\n",
       "      <td>1</td>\n",
       "      <td>7.5</td>\n",
       "      <td>Machines/Hardware</td>\n",
       "      <td>2022</td>\n",
       "      <td>Product &amp; Service</td>\n",
       "    </tr>\n",
       "    <tr>\n",
       "      <th>3</th>\n",
       "      <td>4</td>\n",
       "      <td>MAQ Software</td>\n",
       "      <td>1</td>\n",
       "      <td>9.0</td>\n",
       "      <td>Software/IT Services</td>\n",
       "      <td>2022</td>\n",
       "      <td>Service</td>\n",
       "    </tr>\n",
       "    <tr>\n",
       "      <th>4</th>\n",
       "      <td>5</td>\n",
       "      <td>Thrillophilia</td>\n",
       "      <td>2</td>\n",
       "      <td>7.5</td>\n",
       "      <td>Travel curator</td>\n",
       "      <td>2022</td>\n",
       "      <td>Service</td>\n",
       "    </tr>\n",
       "  </tbody>\n",
       "</table>\n",
       "</div>"
      ],
      "text/plain": [
       "   S No           Company  Students Selected  Package              Industry  \\\n",
       "0     1  Publicis Sapient                  1     10.0   Digital consultancy   \n",
       "1     2           Infosys                  1      8.0  Software/IT Services   \n",
       "2     3               IBM                  1      7.5     Machines/Hardware   \n",
       "3     4      MAQ Software                  1      9.0  Software/IT Services   \n",
       "4     5     Thrillophilia                  2      7.5        Travel curator   \n",
       "\n",
       "   Year       Company Type  \n",
       "0  2022            Service  \n",
       "1  2022            Service  \n",
       "2  2022  Product & Service  \n",
       "3  2022            Service  \n",
       "4  2022            Service  "
      ]
     },
     "execution_count": 3,
     "metadata": {},
     "output_type": "execute_result"
    }
   ],
   "source": [
    "df.head()"
   ]
  },
  {
   "cell_type": "code",
   "execution_count": 4,
   "id": "b1e36286",
   "metadata": {},
   "outputs": [
    {
     "data": {
      "text/plain": [
       "Index(['S No', 'Company', 'Students Selected', 'Package', 'Industry', 'Year',\n",
       "       'Company Type'],\n",
       "      dtype='object')"
      ]
     },
     "execution_count": 4,
     "metadata": {},
     "output_type": "execute_result"
    }
   ],
   "source": [
    "df.columns"
   ]
  },
  {
   "cell_type": "code",
   "execution_count": 5,
   "id": "da12b227",
   "metadata": {},
   "outputs": [
    {
     "name": "stdout",
     "output_type": "stream",
     "text": [
      "No of rows are :  77\n"
     ]
    }
   ],
   "source": [
    "print(\"No of rows are : \",df.shape[0])"
   ]
  },
  {
   "cell_type": "markdown",
   "id": "c7557925",
   "metadata": {},
   "source": [
    "### The Csv was developed by students of Ai 2020\n",
    "### while entering \"Company type\" attribute data manually, errors might present.\n",
    "### Due to same company appeared multiple times in \"Company\" attribute. We have to check whether the \"Company\" and its corresponding \"Company Type\" remains same for all the repeatations\n",
    "### Let's check Sanity of data before moving forward in analysis\n"
   ]
  },
  {
   "cell_type": "code",
   "execution_count": 6,
   "id": "ff5ca5a7",
   "metadata": {},
   "outputs": [
    {
     "data": {
      "text/html": [
       "<div>\n",
       "<style scoped>\n",
       "    .dataframe tbody tr th:only-of-type {\n",
       "        vertical-align: middle;\n",
       "    }\n",
       "\n",
       "    .dataframe tbody tr th {\n",
       "        vertical-align: top;\n",
       "    }\n",
       "\n",
       "    .dataframe thead th {\n",
       "        text-align: right;\n",
       "    }\n",
       "</style>\n",
       "<table border=\"1\" class=\"dataframe\">\n",
       "  <thead>\n",
       "    <tr style=\"text-align: right;\">\n",
       "      <th></th>\n",
       "      <th>Company</th>\n",
       "      <th>Company Type</th>\n",
       "    </tr>\n",
       "  </thead>\n",
       "  <tbody>\n",
       "    <tr>\n",
       "      <th>47</th>\n",
       "      <td>Amazon (Off-Campus)</td>\n",
       "      <td>Product</td>\n",
       "    </tr>\n",
       "    <tr>\n",
       "      <th>37</th>\n",
       "      <td>BigBasket</td>\n",
       "      <td>Product</td>\n",
       "    </tr>\n",
       "    <tr>\n",
       "      <th>36</th>\n",
       "      <td>Byjus</td>\n",
       "      <td>Product</td>\n",
       "    </tr>\n",
       "    <tr>\n",
       "      <th>8</th>\n",
       "      <td>CGI</td>\n",
       "      <td>Service</td>\n",
       "    </tr>\n",
       "    <tr>\n",
       "      <th>6</th>\n",
       "      <td>Capgemini</td>\n",
       "      <td>Service</td>\n",
       "    </tr>\n",
       "    <tr>\n",
       "      <th>...</th>\n",
       "      <td>...</td>\n",
       "      <td>...</td>\n",
       "    </tr>\n",
       "    <tr>\n",
       "      <th>42</th>\n",
       "      <td>Wipro</td>\n",
       "      <td>Service</td>\n",
       "    </tr>\n",
       "    <tr>\n",
       "      <th>71</th>\n",
       "      <td>Wipro</td>\n",
       "      <td>Service</td>\n",
       "    </tr>\n",
       "    <tr>\n",
       "      <th>62</th>\n",
       "      <td>Wipro (Off-Campus)</td>\n",
       "      <td>Service</td>\n",
       "    </tr>\n",
       "    <tr>\n",
       "      <th>10</th>\n",
       "      <td>Zycus</td>\n",
       "      <td>Product</td>\n",
       "    </tr>\n",
       "    <tr>\n",
       "      <th>9</th>\n",
       "      <td>Zycus</td>\n",
       "      <td>Product</td>\n",
       "    </tr>\n",
       "  </tbody>\n",
       "</table>\n",
       "<p>77 rows × 2 columns</p>\n",
       "</div>"
      ],
      "text/plain": [
       "                Company Company Type\n",
       "47  Amazon (Off-Campus)      Product\n",
       "37            BigBasket      Product\n",
       "36                Byjus      Product\n",
       "8                   CGI      Service\n",
       "6             Capgemini      Service\n",
       "..                  ...          ...\n",
       "42                Wipro      Service\n",
       "71                Wipro      Service\n",
       "62   Wipro (Off-Campus)      Service\n",
       "10                Zycus      Product\n",
       "9                 Zycus      Product\n",
       "\n",
       "[77 rows x 2 columns]"
      ]
     },
     "execution_count": 6,
     "metadata": {},
     "output_type": "execute_result"
    }
   ],
   "source": [
    "test = df[[\"Company\", \"Company Type\"]]\n",
    "#Sorting test data frame company name\n",
    "test.sort_values(by = [\"Company\"])"
   ]
  },
  {
   "cell_type": "code",
   "execution_count": 7,
   "id": "10da2d58",
   "metadata": {},
   "outputs": [
    {
     "name": "stdout",
     "output_type": "stream",
     "text": [
      "Data is Valid\n"
     ]
    }
   ],
   "source": [
    "#As same company names fall next to each other, lets see whether same \"company type\" ..\n",
    "# ..for those repeated companies are same or not\n",
    "\n",
    "\n",
    "for i in range(len(test[\"Company\"])-1):\n",
    "    if test[\"Company\"][i] == test[\"Company\"][i+1]:\n",
    "        if test[\"Company Type\"][i] != test[\"Company Type\"][i+1]:\n",
    "            print(test[\"Company\"][i], \"not matching\")\n",
    "            \n",
    "\n",
    "print(\"Data is Valid\")"
   ]
  },
  {
   "cell_type": "markdown",
   "id": "104f974b",
   "metadata": {},
   "source": [
    "### No print statements occured. Hence, Data is Valid we can proceed"
   ]
  },
  {
   "cell_type": "code",
   "execution_count": 8,
   "id": "a6b668b1",
   "metadata": {},
   "outputs": [
    {
     "data": {
      "text/html": [
       "<div>\n",
       "<style scoped>\n",
       "    .dataframe tbody tr th:only-of-type {\n",
       "        vertical-align: middle;\n",
       "    }\n",
       "\n",
       "    .dataframe tbody tr th {\n",
       "        vertical-align: top;\n",
       "    }\n",
       "\n",
       "    .dataframe thead th {\n",
       "        text-align: right;\n",
       "    }\n",
       "</style>\n",
       "<table border=\"1\" class=\"dataframe\">\n",
       "  <thead>\n",
       "    <tr style=\"text-align: right;\">\n",
       "      <th></th>\n",
       "      <th>S No</th>\n",
       "      <th>Students Selected</th>\n",
       "      <th>Package</th>\n",
       "      <th>Year</th>\n",
       "    </tr>\n",
       "  </thead>\n",
       "  <tbody>\n",
       "    <tr>\n",
       "      <th>count</th>\n",
       "      <td>77.000000</td>\n",
       "      <td>77.000000</td>\n",
       "      <td>77.000000</td>\n",
       "      <td>77.000000</td>\n",
       "    </tr>\n",
       "    <tr>\n",
       "      <th>mean</th>\n",
       "      <td>39.000000</td>\n",
       "      <td>2.753247</td>\n",
       "      <td>6.886494</td>\n",
       "      <td>2020.688312</td>\n",
       "    </tr>\n",
       "    <tr>\n",
       "      <th>std</th>\n",
       "      <td>22.371857</td>\n",
       "      <td>3.829099</td>\n",
       "      <td>3.887432</td>\n",
       "      <td>1.029304</td>\n",
       "    </tr>\n",
       "    <tr>\n",
       "      <th>min</th>\n",
       "      <td>1.000000</td>\n",
       "      <td>1.000000</td>\n",
       "      <td>3.360000</td>\n",
       "      <td>2019.000000</td>\n",
       "    </tr>\n",
       "    <tr>\n",
       "      <th>25%</th>\n",
       "      <td>20.000000</td>\n",
       "      <td>1.000000</td>\n",
       "      <td>4.500000</td>\n",
       "      <td>2020.000000</td>\n",
       "    </tr>\n",
       "    <tr>\n",
       "      <th>50%</th>\n",
       "      <td>39.000000</td>\n",
       "      <td>1.000000</td>\n",
       "      <td>6.000000</td>\n",
       "      <td>2021.000000</td>\n",
       "    </tr>\n",
       "    <tr>\n",
       "      <th>75%</th>\n",
       "      <td>58.000000</td>\n",
       "      <td>3.000000</td>\n",
       "      <td>8.000000</td>\n",
       "      <td>2021.000000</td>\n",
       "    </tr>\n",
       "    <tr>\n",
       "      <th>max</th>\n",
       "      <td>77.000000</td>\n",
       "      <td>29.000000</td>\n",
       "      <td>30.000000</td>\n",
       "      <td>2022.000000</td>\n",
       "    </tr>\n",
       "  </tbody>\n",
       "</table>\n",
       "</div>"
      ],
      "text/plain": [
       "            S No  Students Selected    Package         Year\n",
       "count  77.000000          77.000000  77.000000    77.000000\n",
       "mean   39.000000           2.753247   6.886494  2020.688312\n",
       "std    22.371857           3.829099   3.887432     1.029304\n",
       "min     1.000000           1.000000   3.360000  2019.000000\n",
       "25%    20.000000           1.000000   4.500000  2020.000000\n",
       "50%    39.000000           1.000000   6.000000  2021.000000\n",
       "75%    58.000000           3.000000   8.000000  2021.000000\n",
       "max    77.000000          29.000000  30.000000  2022.000000"
      ]
     },
     "execution_count": 8,
     "metadata": {},
     "output_type": "execute_result"
    }
   ],
   "source": [
    "df.describe()"
   ]
  },
  {
   "cell_type": "markdown",
   "id": "c3344d5f",
   "metadata": {},
   "source": [
    "## Observation 1:\n",
    "* <font size=\"3\"> We can see that highest package ever offered is 30LPA and lowest is 3.36 </font>\n",
    "\n",
    "* <font size=\"3\"> Median salary lies at 6lpa whereas the mean is 6.88lpa </font>"
   ]
  },
  {
   "cell_type": "markdown",
   "id": "45d5b60c",
   "metadata": {},
   "source": [
    "### Lets check year wise stats"
   ]
  },
  {
   "cell_type": "code",
   "execution_count": 10,
   "id": "ec77240c",
   "metadata": {},
   "outputs": [
    {
     "data": {
      "text/html": [
       "<div>\n",
       "<style scoped>\n",
       "    .dataframe tbody tr th:only-of-type {\n",
       "        vertical-align: middle;\n",
       "    }\n",
       "\n",
       "    .dataframe tbody tr th {\n",
       "        vertical-align: top;\n",
       "    }\n",
       "\n",
       "    .dataframe thead th {\n",
       "        text-align: right;\n",
       "    }\n",
       "</style>\n",
       "<table border=\"1\" class=\"dataframe\">\n",
       "  <thead>\n",
       "    <tr style=\"text-align: right;\">\n",
       "      <th></th>\n",
       "      <th>S No</th>\n",
       "      <th>Students Selected</th>\n",
       "      <th>Package</th>\n",
       "      <th>Year</th>\n",
       "    </tr>\n",
       "  </thead>\n",
       "  <tbody>\n",
       "    <tr>\n",
       "      <th>count</th>\n",
       "      <td>13.00000</td>\n",
       "      <td>13.000000</td>\n",
       "      <td>13.000000</td>\n",
       "      <td>13.0</td>\n",
       "    </tr>\n",
       "    <tr>\n",
       "      <th>mean</th>\n",
       "      <td>71.00000</td>\n",
       "      <td>2.000000</td>\n",
       "      <td>5.503846</td>\n",
       "      <td>2019.0</td>\n",
       "    </tr>\n",
       "    <tr>\n",
       "      <th>std</th>\n",
       "      <td>3.89444</td>\n",
       "      <td>2.041241</td>\n",
       "      <td>2.273073</td>\n",
       "      <td>0.0</td>\n",
       "    </tr>\n",
       "    <tr>\n",
       "      <th>min</th>\n",
       "      <td>65.00000</td>\n",
       "      <td>1.000000</td>\n",
       "      <td>3.500000</td>\n",
       "      <td>2019.0</td>\n",
       "    </tr>\n",
       "    <tr>\n",
       "      <th>25%</th>\n",
       "      <td>68.00000</td>\n",
       "      <td>1.000000</td>\n",
       "      <td>4.000000</td>\n",
       "      <td>2019.0</td>\n",
       "    </tr>\n",
       "    <tr>\n",
       "      <th>50%</th>\n",
       "      <td>71.00000</td>\n",
       "      <td>1.000000</td>\n",
       "      <td>5.000000</td>\n",
       "      <td>2019.0</td>\n",
       "    </tr>\n",
       "    <tr>\n",
       "      <th>75%</th>\n",
       "      <td>74.00000</td>\n",
       "      <td>2.000000</td>\n",
       "      <td>6.000000</td>\n",
       "      <td>2019.0</td>\n",
       "    </tr>\n",
       "    <tr>\n",
       "      <th>max</th>\n",
       "      <td>77.00000</td>\n",
       "      <td>8.000000</td>\n",
       "      <td>10.500000</td>\n",
       "      <td>2019.0</td>\n",
       "    </tr>\n",
       "  </tbody>\n",
       "</table>\n",
       "</div>"
      ],
      "text/plain": [
       "           S No  Students Selected    Package    Year\n",
       "count  13.00000          13.000000  13.000000    13.0\n",
       "mean   71.00000           2.000000   5.503846  2019.0\n",
       "std     3.89444           2.041241   2.273073     0.0\n",
       "min    65.00000           1.000000   3.500000  2019.0\n",
       "25%    68.00000           1.000000   4.000000  2019.0\n",
       "50%    71.00000           1.000000   5.000000  2019.0\n",
       "75%    74.00000           2.000000   6.000000  2019.0\n",
       "max    77.00000           8.000000  10.500000  2019.0"
      ]
     },
     "execution_count": 10,
     "metadata": {},
     "output_type": "execute_result"
    }
   ],
   "source": [
    "df_2019 = df[df[\"Year\"] == 2019]\n",
    "df_2019.describe()"
   ]
  },
  {
   "cell_type": "markdown",
   "id": "ed75cd62",
   "metadata": {},
   "source": [
    "## Observation 2: \n",
    "### From 2019 placements data\n",
    "* <font size=\"3\"> We can see the highest was 10.5LPA and least is 3.5 </font>\n",
    "* <font size=\"3\"> Median lies at 5Lpa whereas mean lies at 5.5 </font>"
   ]
  },
  {
   "cell_type": "markdown",
   "id": "009479ef",
   "metadata": {},
   "source": [
    "## Instead of going through every year stats lets compare each year performance Visually which might be more insightful"
   ]
  },
  {
   "cell_type": "code",
   "execution_count": 11,
   "id": "ae9870c8",
   "metadata": {},
   "outputs": [
    {
     "data": {
      "text/html": [
       "<div>\n",
       "<style scoped>\n",
       "    .dataframe tbody tr th:only-of-type {\n",
       "        vertical-align: middle;\n",
       "    }\n",
       "\n",
       "    .dataframe tbody tr th {\n",
       "        vertical-align: top;\n",
       "    }\n",
       "\n",
       "    .dataframe thead th {\n",
       "        text-align: right;\n",
       "    }\n",
       "</style>\n",
       "<table border=\"1\" class=\"dataframe\">\n",
       "  <thead>\n",
       "    <tr style=\"text-align: right;\">\n",
       "      <th></th>\n",
       "      <th>mean CTC</th>\n",
       "      <th>median CTC</th>\n",
       "      <th>max CTC</th>\n",
       "      <th>min CTC</th>\n",
       "    </tr>\n",
       "    <tr>\n",
       "      <th>Year</th>\n",
       "      <th></th>\n",
       "      <th></th>\n",
       "      <th></th>\n",
       "      <th></th>\n",
       "    </tr>\n",
       "  </thead>\n",
       "  <tbody>\n",
       "    <tr>\n",
       "      <th>2019</th>\n",
       "      <td>5.503846</td>\n",
       "      <td>5.0</td>\n",
       "      <td>10.50</td>\n",
       "      <td>3.50</td>\n",
       "    </tr>\n",
       "    <tr>\n",
       "      <th>2020</th>\n",
       "      <td>8.240000</td>\n",
       "      <td>6.0</td>\n",
       "      <td>30.00</td>\n",
       "      <td>3.36</td>\n",
       "    </tr>\n",
       "    <tr>\n",
       "      <th>2021</th>\n",
       "      <td>5.852143</td>\n",
       "      <td>5.0</td>\n",
       "      <td>15.00</td>\n",
       "      <td>3.36</td>\n",
       "    </tr>\n",
       "    <tr>\n",
       "      <th>2022</th>\n",
       "      <td>8.145789</td>\n",
       "      <td>7.5</td>\n",
       "      <td>14.32</td>\n",
       "      <td>5.00</td>\n",
       "    </tr>\n",
       "  </tbody>\n",
       "</table>\n",
       "</div>"
      ],
      "text/plain": [
       "      mean CTC  median CTC  max CTC  min CTC\n",
       "Year                                        \n",
       "2019  5.503846         5.0    10.50     3.50\n",
       "2020  8.240000         6.0    30.00     3.36\n",
       "2021  5.852143         5.0    15.00     3.36\n",
       "2022  8.145789         7.5    14.32     5.00"
      ]
     },
     "execution_count": 11,
     "metadata": {},
     "output_type": "execute_result"
    }
   ],
   "source": [
    "#Creating a Dataframe with each year mean , median, max and min packages\n",
    "\n",
    "mean_df = df.groupby(\"Year\").mean()\n",
    "mean_df.drop([\"S No\", \"Students Selected\"], axis = \"columns\", inplace = True)\n",
    "mean_df.rename(columns = {\"Package\":\"mean CTC\"}, inplace = True)\n",
    "\n",
    "median_df = df.groupby(\"Year\").median()\n",
    "median_df.drop([\"S No\", \"Students Selected\"], axis = \"columns\", inplace = True)\n",
    "median_df.rename(columns = {\"Package\":\"median CTC\"}, inplace = True)\n",
    "\n",
    "max_df = df.groupby(\"Year\").max()\n",
    "max_df.drop([\"S No\", \"Students Selected\", \"Company\", \"Company Type\", \"Industry\"], axis = \"columns\", inplace = True)\n",
    "max_df.rename(columns = {\"Package\":\"max CTC\"}, inplace = True)\n",
    "\n",
    "min_df =  df.groupby(\"Year\").min()\n",
    "min_df.drop([\"S No\", \"Students Selected\", \"Company\", \"Company Type\", \"Industry\"], axis = \"columns\", inplace = True)\n",
    "min_df.rename(columns = {\"Package\":\"min CTC\"}, inplace = True)\n",
    "\n",
    "hist_df = pd.concat([mean_df, median_df, max_df, min_df], axis=1, join='inner')\n",
    "hist_df.rename(columns = {\"max CTC\":\"max CTC\", \"mean CTC\" : \"mean CTC\" , \"median CTC\" : \"median CTC\", \"min CTC\" : \"min CTC\"}, inplace = True)\n",
    "hist_df"
   ]
  },
  {
   "cell_type": "markdown",
   "id": "789dc633",
   "metadata": {},
   "source": [
    "### Here is the data frame over the years\n",
    "### Lets see it pictorially"
   ]
  },
  {
   "cell_type": "code",
   "execution_count": 12,
   "id": "dce274ef",
   "metadata": {},
   "outputs": [
    {
     "data": {
      "text/html": [
       "<div>\n",
       "<style scoped>\n",
       "    .dataframe tbody tr th:only-of-type {\n",
       "        vertical-align: middle;\n",
       "    }\n",
       "\n",
       "    .dataframe tbody tr th {\n",
       "        vertical-align: top;\n",
       "    }\n",
       "\n",
       "    .dataframe thead th {\n",
       "        text-align: right;\n",
       "    }\n",
       "</style>\n",
       "<table border=\"1\" class=\"dataframe\">\n",
       "  <thead>\n",
       "    <tr style=\"text-align: right;\">\n",
       "      <th></th>\n",
       "      <th>mean CTC</th>\n",
       "      <th>median CTC</th>\n",
       "      <th>max CTC</th>\n",
       "      <th>min CTC</th>\n",
       "      <th>year</th>\n",
       "    </tr>\n",
       "    <tr>\n",
       "      <th>Year</th>\n",
       "      <th></th>\n",
       "      <th></th>\n",
       "      <th></th>\n",
       "      <th></th>\n",
       "      <th></th>\n",
       "    </tr>\n",
       "  </thead>\n",
       "  <tbody>\n",
       "    <tr>\n",
       "      <th>2019</th>\n",
       "      <td>5.503846</td>\n",
       "      <td>5.0</td>\n",
       "      <td>10.50</td>\n",
       "      <td>3.50</td>\n",
       "      <td>2019</td>\n",
       "    </tr>\n",
       "    <tr>\n",
       "      <th>2020</th>\n",
       "      <td>8.240000</td>\n",
       "      <td>6.0</td>\n",
       "      <td>30.00</td>\n",
       "      <td>3.36</td>\n",
       "      <td>2020</td>\n",
       "    </tr>\n",
       "    <tr>\n",
       "      <th>2021</th>\n",
       "      <td>5.852143</td>\n",
       "      <td>5.0</td>\n",
       "      <td>15.00</td>\n",
       "      <td>3.36</td>\n",
       "      <td>2021</td>\n",
       "    </tr>\n",
       "    <tr>\n",
       "      <th>2022</th>\n",
       "      <td>8.145789</td>\n",
       "      <td>7.5</td>\n",
       "      <td>14.32</td>\n",
       "      <td>5.00</td>\n",
       "      <td>2022</td>\n",
       "    </tr>\n",
       "  </tbody>\n",
       "</table>\n",
       "</div>"
      ],
      "text/plain": [
       "      mean CTC  median CTC  max CTC  min CTC  year\n",
       "Year                                              \n",
       "2019  5.503846         5.0    10.50     3.50  2019\n",
       "2020  8.240000         6.0    30.00     3.36  2020\n",
       "2021  5.852143         5.0    15.00     3.36  2021\n",
       "2022  8.145789         7.5    14.32     5.00  2022"
      ]
     },
     "execution_count": 12,
     "metadata": {},
     "output_type": "execute_result"
    }
   ],
   "source": [
    "#As we used groupby to year we can't iterate through \"year\" and we can't use sns library on it\n",
    "#so, lets add a new list as year\n",
    "year = [\"2019\", \"2020\", \"2021\", \"2022\"]\n",
    "hist_df[\"year\"] = year\n",
    "hist_df"
   ]
  },
  {
   "cell_type": "code",
   "execution_count": 13,
   "id": "c3ac6f2f",
   "metadata": {},
   "outputs": [
    {
     "data": {
      "image/png": "[encoded data removed]",
      "text/plain": [
       "<Figure size 432x288 with 1 Axes>"
      ]
     },
     "metadata": {
      "needs_background": "light"
     },
     "output_type": "display_data"
    }
   ],
   "source": [
    "fig = plt.figure()\n",
    "ax = fig.add_axes([0,0,1,1])\n",
    "ax.bar(hist_df[\"year\"], hist_df[\"mean CTC\"])\n",
    "plt.title(\"Mean CTC year wise\")\n",
    "plt.xlabel(\"Year\")\n",
    "plt.ylabel(\"CTC in LPA\")\n",
    "plt.show()"
   ]
  },
  {
   "cell_type": "markdown",
   "id": "e49de8bf",
   "metadata": {},
   "source": [
    "## Observation 3:\n",
    "* <font size=\"4\"> We Can clearly see mean CTC is increasing over the years except for 2021 </font> \n",
    "* <font size=\"4\"> That dip in that year might be caused due to Covid pandemic </font>"
   ]
  },
  {
   "cell_type": "code",
   "execution_count": 14,
   "id": "76f82bae",
   "metadata": {},
   "outputs": [
    {
     "data": {
      "image/png": "[encoded data removed]",
      "text/plain": [
       "<Figure size 432x288 with 1 Axes>"
      ]
     },
     "metadata": {
      "needs_background": "light"
     },
     "output_type": "display_data"
    }
   ],
   "source": [
    "fig = plt.figure()\n",
    "ax = fig.add_axes([0,0,1,1])\n",
    "ax.bar(hist_df[\"year\"], hist_df[\"median CTC\"])\n",
    "plt.title(\"Median CTC year wise\")\n",
    "plt.xlabel(\"Year\")\n",
    "plt.ylabel(\"CTC in LPA\")\n",
    "plt.show()"
   ]
  },
  {
   "cell_type": "markdown",
   "id": "2ce25eb8",
   "metadata": {},
   "source": [
    "## Observation 4:\n",
    "<font size=\"4\"> The median CTC is also increasing each year that too with a good pace though there was a dip in 2021 </font>\n"
   ]
  },
  {
   "cell_type": "code",
   "execution_count": 15,
   "id": "b25740d3",
   "metadata": {},
   "outputs": [
    {
     "data": {
      "image/png": "[encoded data removed]",
      "text/plain": [
       "<Figure size 432x288 with 1 Axes>"
      ]
     },
     "metadata": {
      "needs_background": "light"
     },
     "output_type": "display_data"
    }
   ],
   "source": [
    "fig = plt.figure()\n",
    "ax = fig.add_axes([0,0,1,1])\n",
    "ax.bar(hist_df[\"year\"], hist_df[\"max CTC\"], color = \"r\")\n",
    "plt.title(\"Max CTC year wise\")\n",
    "plt.xlabel(\"Year\")\n",
    "plt.ylabel(\"CTC in LPA\")\n",
    "plt.show()"
   ]
  },
  {
   "cell_type": "markdown",
   "id": "b0850b3e",
   "metadata": {},
   "source": [
    "## Observation 5:\n",
    "* <font size=\"4\"> There is no particular trend in Max CTC. </font>\n",
    "* <font size=\"4\"> Institute recorded highest CTC in the year 2020 </font>\n"
   ]
  },
  {
   "cell_type": "code",
   "execution_count": 16,
   "id": "b26b048a",
   "metadata": {},
   "outputs": [
    {
     "data": {
      "image/png": "[encoded data removed]",
      "text/plain": [
       "<Figure size 432x288 with 1 Axes>"
      ]
     },
     "metadata": {
      "needs_background": "light"
     },
     "output_type": "display_data"
    }
   ],
   "source": [
    "fig = plt.figure()\n",
    "ax = fig.add_axes([0,0,1,1])\n",
    "ax.bar(hist_df[\"year\"], hist_df[\"min CTC\"], color = \"c\")\n",
    "plt.title(\"Min CTC year wise\")\n",
    "plt.xlabel(\"Year\")\n",
    "plt.ylabel(\"CTC in LPA\")\n",
    "plt.show()"
   ]
  },
  {
   "cell_type": "markdown",
   "id": "07aef6e4",
   "metadata": {},
   "source": [
    "## Observation 6:\n",
    "* <font size=\"4\"> The minimum CTC mostly stayed stable unti 2021. </font>\n",
    "* <font size = \"4\"> But it got drastically increased in the year 2022 which is a\n",
    "   good sign </font>\n"
   ]
  },
  {
   "cell_type": "code",
   "execution_count": 18,
   "id": "d8bff765",
   "metadata": {},
   "outputs": [
    {
     "name": "stdout",
     "output_type": "stream",
     "text": [
      "Most no of students hired in a single year was 29 by the company Cognizant in the year 2022\n"
     ]
    }
   ],
   "source": [
    "## Lets see which company hired most of the students in a single year\n",
    "a = 0\n",
    "for i in range(len(df[\"Company\"])):\n",
    "    if(df[\"Students Selected\"][i] >= a):\n",
    "        a = df[\"Students Selected\"][i]\n",
    "        c = df[\"Company\"][i]\n",
    "        y = df[\"Year\"][i]\n",
    "        p = df[\"Package\"][i]\n",
    "print(\"Most no of students hired in a single year was\", a, \"by the company\", c, \"in the year\", y)"
   ]
  },
  {
   "cell_type": "markdown",
   "id": "cfbf5613",
   "metadata": {},
   "source": [
    "## Observation 7:\n",
    "* <font size = \"4\"> Cognizant is the mass recuriter for the institute </font>\n",
    "* <font size = \"4\"> It hired 29 students in the year 2022 </font>\n"
   ]
  },
  {
   "cell_type": "markdown",
   "id": "e3851189",
   "metadata": {},
   "source": [
    "### Lets explore to the industry type attribute"
   ]
  },
  {
   "cell_type": "code",
   "execution_count": 20,
   "id": "35cef28a",
   "metadata": {},
   "outputs": [
    {
     "data": {
      "image/png": "[encoded data removed]",
      "text/plain": [
       "<Figure size 1080x648 with 1 Axes>"
      ]
     },
     "metadata": {},
     "output_type": "display_data"
    }
   ],
   "source": [
    "def func(pct, allvalues):\n",
    "    absolute = int(pct / 100.*(np.sum(allvalues)+1))\n",
    "    return \"{:.1f}%\\n({:d} g)\".format(pct, absolute)\n",
    "\n",
    "ind = [\"Software/IT Services\",\"Education\",\"Financial Services\",\"Machines/Hardware\",\"Media/Communications\",\"HealthCare\",\"Cyber Security\", \"E-Commerce\", \"Digital consultancy\" ,\"Travel curator\",\"Data modelling\"]\n",
    "\n",
    "ind_count  = []\n",
    "for i in df[\"Industry\"].value_counts():\n",
    "    ind_count.append(i)\n",
    "fig = plt.figure(figsize =(15, 9))\n",
    "plt.pie(ind_count, labels = ind, shadow = True, autopct = lambda pct: func(pct, ind_count))\n",
    "\n",
    "plt.show()"
   ]
  },
  {
   "cell_type": "markdown",
   "id": "1cd54c68",
   "metadata": {},
   "source": [
    "## Observation 8:\n",
    "## we are having a better picture from pie chart \n",
    "*  <font size = \"4\"> We can clearly see Software/IT services is the major sector placements are happening </font>\n",
    "* <font size = \"4\"> Following to that we have Education and Finance serivce companies vists the campus more</font>"
   ]
  },
  {
   "cell_type": "markdown",
   "id": "246754a7",
   "metadata": {},
   "source": [
    "### Lets see what type of companies approaching placement cell "
   ]
  },
  {
   "cell_type": "code",
   "execution_count": 21,
   "id": "4638e46b",
   "metadata": {},
   "outputs": [
    {
     "data": {
      "text/plain": [
       "Service              48\n",
       "Product              27\n",
       "Product & Service     2\n",
       "Name: Company Type, dtype: int64"
      ]
     },
     "execution_count": 21,
     "metadata": {},
     "output_type": "execute_result"
    }
   ],
   "source": [
    "df[\"Company Type\"].value_counts()"
   ]
  },
  {
   "cell_type": "markdown",
   "id": "42e3079c",
   "metadata": {},
   "source": [
    "## Observation 9:\n",
    "*  <font size = \"4\"> Service based companies visiting the campus more no of times\n"
   ]
  },
  {
   "cell_type": "markdown",
   "id": "2c24f7de",
   "metadata": {},
   "source": [
    "## Checking which company spent most in hirings on a single visit\n",
    "\n",
    "* Logic followed to find is multiplying \"Students Selected\" against the \"Package\" they offered"
   ]
  },
  {
   "cell_type": "code",
   "execution_count": 23,
   "id": "cb6db818",
   "metadata": {},
   "outputs": [
    {
     "name": "stdout",
     "output_type": "stream",
     "text": [
      "Company Cognizant Spent more in hiring at single time with worth 195.75 LPA hirings\n"
     ]
    }
   ],
   "source": [
    "k = 0\n",
    "for j in range(len(df[\"Students Selected\"])):\n",
    "    if(df[\"Students Selected\"][j] * df[\"Package\"][j] > k):\n",
    "        k = df[\"Students Selected\"][j] * df[\"Package\"][j]\n",
    "        comp = df[\"Company\"][j]\n",
    "print(\"Company\", comp, \"Spent more in hiring at single time with worth\", k, \"LPA hirings\")"
   ]
  },
  {
   "cell_type": "markdown",
   "id": "686d7a8a",
   "metadata": {},
   "source": [
    "## Observation 10:\n",
    "* <font size = \"4\"> Cognizant is the company spent most in hirings on a single visit\n",
    "*  <font size = \"4\"> It Spent 195.75 Lakh rupees in hiring the students </font> "
   ]
  },
  {
   "cell_type": "code",
   "execution_count": 25,
   "id": "f93deca2",
   "metadata": {},
   "outputs": [],
   "source": [
    "#EDA done by Uday sai Tanna\n",
    "# 120AD0022 \n",
    "# UG 2nd yr AI \n",
    "# IIITDM"
   ]
  }
 ],
 "metadata": {
  "kernelspec": {
   "display_name": "Python 3 (ipykernel)",
   "language": "python",
   "name": "python3"
  },
  "language_info": {
   "codemirror_mode": {
    "name": "ipython",
    "version": 3
   },
   "file_extension": ".py",
   "mimetype": "text/x-python",
   "name": "python",
   "nbconvert_exporter": "python",
   "pygments_lexer": "ipython3",
   "version": "3.9.7"
  }
 },
 "nbformat": 4,
 "nbformat_minor": 5
}
